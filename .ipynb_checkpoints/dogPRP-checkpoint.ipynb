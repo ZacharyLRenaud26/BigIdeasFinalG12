{
 "cells": [
  {
   "cell_type": "code",
   "execution_count": 1,
   "metadata": {},
   "outputs": [
    {
     "name": "stdout",
     "output_type": "stream",
     "text": [
      "Zip code(s) with the most dogs:\n",
      "15237\n"
     ]
    }
   ],
   "source": [
    "import pandas as pd\n",
    "\n",
    "data = pd.read_csv(\"f8ab32f7-44c7-43ca-98bf-c1b444724598.csv\")\n",
    "\n",
    "dogs_by_zip = data.groupby('OwnerZip')['_id'].nunique()\n",
    "\n",
    "max_dogs = dogs_by_zip.max()\n",
    "zip_codes_with_max_dogs = dogs_by_zip[dogs_by_zip == max_dogs].index.tolist()\n",
    "\n",
    "print(\"Zip code(s) with the most dogs:\")\n",
    "for zip_code in zip_codes_with_max_dogs:\n",
    "    print(zip_code)"
   ]
  },
  {
   "cell_type": "code",
   "execution_count": 1,
   "metadata": {},
   "outputs": [
    {
     "data": {
      "image/png": "[encoded data removed]",
      "text/plain": [
       "<Figure size 720x432 with 1 Axes>"
      ]
     },
     "metadata": {},
     "output_type": "display_data"
    }
   ],
   "source": [
    "import pandas as pd\n",
    "import matplotlib.pyplot as plt\n",
    "\n",
    "data = pd.read_csv(\"f8ab32f7-44c7-43ca-98bf-c1b444724598.csv\")\n",
    "\n",
    "zip_to_neighborhood = {\n",
    "    '15216': 'Neighborhood 1',\n",
    "    '15243': 'Neighborhood 1',\n",
    "    '15226': 'Neighborhood 1',\n",
    "    '15228': 'Neighborhood 1',\n",
    "    '15234': 'Neighborhood 1',\n",
    "}\n",
    "\n",
    "data['neighborhood'] = data['OwnerZip'].map(zip_to_neighborhood)\n",
    "\n",
    "dogs_by_neighborhood = data.groupby('neighborhood')['_id'].count()\n",
    "\n",
    "plt.figure(figsize=(10, 6))\n",
    "plt.pie(dogs_by_neighborhood, labels=dogs_by_neighborhood.index, autopct='%1.1f%%', startangle=140)\n",
    "plt.axis('equal')  # Equal aspect ratio ensures that pie is drawn as a circle.\n",
    "plt.title('Distribution of Dogs by Neighborhood')\n",
    "plt.show()\n"
   ]
  },
  {
   "cell_type": "markdown",
   "metadata": {},
   "source": [
    "Mt. Lebanon does not have the zip code with the MOST dogs, it has a good amount in each of its zip codes.\n",
    "\n",
    "The dataset: https://data.wprdc.org/dataset/allegheny-county-dog-licenses/resource/f8ab32f7-44c7-43ca-98bf-c1b444724598"
   ]
  },
  {
   "cell_type": "code",
   "execution_count": null,
   "metadata": {},
   "outputs": [],
   "source": []
  }
 ],
 "metadata": {
  "kernelspec": {
   "display_name": "Python 3",
   "language": "python",
   "name": "python3"
  },
  "language_info": {
   "codemirror_mode": {
    "name": "ipython",
    "version": 3
   },
   "file_extension": ".py",
   "mimetype": "text/x-python",
   "name": "python",
   "nbconvert_exporter": "python",
   "pygments_lexer": "ipython3",
   "version": "3.8.3"
  }
 },
 "nbformat": 4,
 "nbformat_minor": 4
}
