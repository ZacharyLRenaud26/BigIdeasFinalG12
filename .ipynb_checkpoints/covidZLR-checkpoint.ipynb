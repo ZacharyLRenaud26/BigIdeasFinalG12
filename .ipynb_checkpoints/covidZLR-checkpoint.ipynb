{
 "cells": [
  {
   "cell_type": "code",
   "execution_count": 23,
   "metadata": {},
   "outputs": [
    {
     "name": "stdout",
     "output_type": "stream",
     "text": [
      "The maximum value in column 'bivalent_booster' is 10902.0 in the neighborhood 'None'.\n"
     ]
    }
   ],
   "source": [
    "import csv\n",
    "\n",
    "def find_max_in_column(csv_file, column_name, neighborhood_column):\n",
    "    max_value = None\n",
    "    max_neighborhood = None\n",
    "\n",
    "    with open(csv_file, 'r') as file:\n",
    "        reader = csv.DictReader(file)\n",
    "        for row in reader:\n",
    "            value = float(row[column_name])  \n",
    "            if max_value is None or value > max_value:\n",
    "                max_value = value\n",
    "                if neighborhood_column in row:\n",
    "                    max_neighborhood = row[neighborhood_column]\n",
    "\n",
    "    return max_value, max_neighborhood\n",
    "\n",
    "csv_file = '61ab4ad4-fb84-4789-95c9-cbe116414287.csv'\n",
    "column_name = 'bivalent_booster'\n",
    "neighborhood_column = 'neighborhood_municipally'\n",
    "max_value_in_column, max_neighborhood = find_max_in_column(csv_file, column_name, neighborhood_column)\n",
    "print(f\"The maximum value in column '{column_name}' is {max_value_in_column} in the neighborhood '{max_neighborhood}'.\")\n"
   ]
  },
  {
   "cell_type": "markdown",
   "metadata": {},
   "source": [
    "From the code and file above on what neighborhood has the most covid vaccines. Mt. Lebanon has the most amount of people vaccinated from this dataset.\n",
    "\n",
    "The dataset: https://data.wprdc.org/dataset/allegheny-county-covid-19-vaccinations/resource/61ab4ad4-fb84-4789-95c9-cbe116414287/view/efce04cc-f8e0-434f-841e-99de5abeb721?state=eyJ0aW1lIjoxNzEyMjgxNjg4MTAzLCJzdGFydCI6MCwibGVuZ3RoIjoyMCwib3JkZXIiOltbMCwiYXNjIl1dLCJzZWFyY2giOnsic2VhcmNoIjoiIiwic21hcnQiOnRydWUsInJlZ2V4IjpmYWxzZSwiY2FzZUluc2Vuc2l0aXZlIjp0cnVlfSwiY29sdW1ucyI6W3sidmlzaWJsZSI6dHJ1ZSwic2VhcmNoIjp7InNlYXJjaCI6IiIsInNtYXJ0Ijp0cnVlLCJyZWdleCI6ZmFsc2UsImNhc2VJbnNlbnNpdGl2ZSI6dHJ1ZX19LHsidmlzaWJsZSI6dHJ1ZSwic2VhcmNoIjp7InNlYXJjaCI6IiIsInNtYXJ0Ijp0cnVlLCJyZWdleCI6ZmFsc2UsImNhc2VJbnNlbnNpdGl2ZSI6dHJ1ZX19LHsidmlzaWJsZSI6dHJ1ZSwic2VhcmNoIjp7InNlYXJjaCI6IiIsInNtYXJ0Ijp0cnVlLCJyZWdleCI6ZmFsc2UsImNhc2VJbnNlbnNpdGl2ZSI6dHJ1ZX19LHsidmlzaWJsZSI6dHJ1ZSwic2VhcmNoIjp7InNlYXJjaCI6IiIsInNtYXJ0Ijp0cnVlLCJyZWdleCI6ZmFsc2UsImNhc2VJbnNlbnNpdGl2ZSI6dHJ1ZX19XSwicGFnZSI6MCwicGFnZWxlbiI6MjAsInNlbGVjdGVkIjpbXSwidmlld21vZGUiOiJsaXN0Iiwia2V5VGFibGUiOm51bGwsImNoaWxkUm93cyI6W10sInNlbGVjdCI6eyJyb3dzIjpbXSwiY29sdW1ucyI6W10sImNlbGxzIjpbXX19"
   ]
  },
  {
   "cell_type": "code",
   "execution_count": null,
   "metadata": {},
   "outputs": [],
   "source": []
  }
 ],
 "metadata": {
  "kernelspec": {
   "display_name": "Python 3",
   "language": "python",
   "name": "python3"
  },
  "language_info": {
   "codemirror_mode": {
    "name": "ipython",
    "version": 3
   },
   "file_extension": ".py",
   "mimetype": "text/x-python",
   "name": "python",
   "nbconvert_exporter": "python",
   "pygments_lexer": "ipython3",
   "version": "3.8.3"
  }
 },
 "nbformat": 4,
 "nbformat_minor": 4
}
