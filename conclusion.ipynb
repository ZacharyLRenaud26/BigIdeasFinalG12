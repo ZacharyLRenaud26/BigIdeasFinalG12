{
 "cells": [
  {
   "cell_type": "markdown",
   "metadata": {},
   "source": [
    "In conclusion, Mt. Lebanon proves itself as the clear-cut choice when determining safety in Pittsburgh neighborhoods. Their impressive vaccination records, few arrests, and high standard in food safety collectively determine the strenght of the community.\n",
    "\n",
    "Firstly, Mt. Lebanon sets itself apart from the other neighborhoods with its COVID vaccination rates. As previously shown, 9.1% of all vaccinated Allegheney County residents live in Mt. Lebanon, 2.4% more than second place. With such a highly vaccinated population rate in the neighborhood, it is safe to argue that Mt. Lebanon stands out when it comes to safety.\n",
    "\n",
    "When going into their law enforcement statistics, Mt. Lebanon has proven to be stellar in that category with only three recorded arrests dating back to 1998. While hard to believe, the database clearly states how little crime is in this neighborhood, a testament to their high standard for safety.\n",
    "\n",
    "Furthermore, Mt. Lebanon is also known for their excellent track record when it comes to food safety. As previously shown, Mt. Lebanon makes up less than 5% of all food safety violations in the county. This shows that the neighborhood's committment to food safety is clear and evident.\n",
    "\n",
    "After analyzing all the data, it becomes clear that Mt. Lebanon is the safest neighborhood in Pittsburgh. Through a high rate of COVID vaccinations, very few arrests, and a high standard for safety in the kitchen, this community has set the bar high for safety. Therefore, when looking for a safe and peaceful neighborhood to call home in Pittsburgh, Mt. Lebanon is the best and safest choice."
   ]
  }
 ],
 "metadata": {
  "kernelspec": {
   "display_name": "Python 3",
   "language": "python",
   "name": "python3"
  },
  "language_info": {
   "codemirror_mode": {
    "name": "ipython",
    "version": 3
   },
   "file_extension": ".py",
   "mimetype": "text/x-python",
   "name": "python",
   "nbconvert_exporter": "python",
   "pygments_lexer": "ipython3",
   "version": "3.8.3"
  }
 },
 "nbformat": 4,
 "nbformat_minor": 4
}
