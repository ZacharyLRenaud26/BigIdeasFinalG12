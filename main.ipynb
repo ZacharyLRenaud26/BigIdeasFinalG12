{
 "cells": [
  {
   "cell_type": "markdown",
   "metadata": {},
   "source": [
    "When we sought to find the best neighborhood in Pittsburgh, we decided to focus on safety as the determining factor. We used three datasets to help find the safest neighborhood and after our research, we found that Mt. Lebanon was the safest. The datasets we used to find this were COVID vaccinations, arrest records, and food inspection violations. We feel that these datasets help prove that Mt. Lebanon is not only the safest, but the best neighborhood in Pittsburgh.\n",
    "\n",
    "Among the factors we analyzed, Mount Lebanon's strong performance in COVID vaccination rates stands out prominently. It boasts the title of the most vaccinated neighborhood in Pittsburgh, with 9.1% of all vaccinated residents in Allegheny County living in Mt. Lebanon. The neighborhood has a strong lead over second place Penn Hills, by a margin of 2.4%.\n",
    "\n",
    "Secondly, when looking into crime in Pittsburgh, we found that Mt. Lebanon is also among the best. After extensive research, the dataset stated that the neighborhood has only three recorded arrests dating back to 1998, securing the second-lowest spot in the county. This impressive record proves the community's commitment to safety and adherence to the law.\n",
    "\n",
    "Just as noteworthy is Mount Lebanon's commendable performance in food safety inspections. The neighborhood accounts for less than 5% of all food violations in the county, an impressive statistic that proves its committment to the health and safety of all its citizens.\n",
    "\n",
    "Upon analyzing these datasets, it becomes clear that Mount Lebanon stands out as the safest neighborhood in Pittsburgh. Its impressive vaccination rates, minimal arrest incidents, and stellar food safety record collectively conclude the debate. Therefore, when looking for the a safe and peaceful neighborhood, Mount Lebanon is the clear choice, proving it is the best neighborhood in Pittsburgh.\n",
    "\n",
    "![Welcome to Mt. Lebanon](https://i0.wp.com/nextpittsburgh.com/wp-content/uploads/2016/12/mural-pittsburgh-welcome-to-mt-lebanon-ashley-hodder-2014version-1.jpg?fit=788%2C330&ssl=1)\n"
   ]
  },
  {
   "cell_type": "code",
   "execution_count": null,
   "metadata": {},
   "outputs": [],
   "source": []
  }
 ],
 "metadata": {
  "kernelspec": {
   "display_name": "Python 3",
   "language": "python",
   "name": "python3"
  },
  "language_info": {
   "codemirror_mode": {
    "name": "ipython",
    "version": 3
   },
   "file_extension": ".py",
   "mimetype": "text/x-python",
   "name": "python",
   "nbconvert_exporter": "python",
   "pygments_lexer": "ipython3",
   "version": "3.8.3"
  }
 },
 "nbformat": 4,
 "nbformat_minor": 4
}
