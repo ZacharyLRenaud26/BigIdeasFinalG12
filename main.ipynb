{
 "cells": [
  {
   "cell_type": "markdown",
   "metadata": {},
   "source": [
    "When we sought to find the best neighborhood in Pittsburgh, we decided to focus on safety as the determining factor. We used three datasets to help find the safest neighborhood and after our research, we found that Mt. Lebanon was the safest. The datasets we used to find this were COVID vaccinations, arrest records, and food inspection violations. We feel that these datasets help prove that Mt. Lebanon is not only the safest, but the best neighborhood in Pittsburgh.\n",
    "\n",
    "Upon analyzing these datasets, it becomes clear that Mount Lebanon stands out as the safest neighborhood in Pittsburgh. You will see its impressive vaccination rates, minimal arrest incidents, and stellar food safety record, and be able to conclude that Mt. Lebanon is the safest neighborhood to live. Therefore, when looking for the a safe and peaceful neighborhood, Mount Lebanon is the clear choice, proving it is the best neighborhood in Pittsburgh.\n",
    "\n",
    "![Welcome to Mt. Lebanon](https://i0.wp.com/nextpittsburgh.com/wp-content/uploads/2016/12/mural-pittsburgh-welcome-to-mt-lebanon-ashley-hodder-2014version-1.jpg?fit=788%2C330&ssl=1)\n"
   ]
  },
  {
   "cell_type": "code",
   "execution_count": null,
   "metadata": {},
   "outputs": [],
   "source": []
  }
 ],
 "metadata": {
  "kernelspec": {
   "display_name": "Python 3",
   "language": "python",
   "name": "python3"
  },
  "language_info": {
   "codemirror_mode": {
    "name": "ipython",
    "version": 3
   },
   "file_extension": ".py",
   "mimetype": "text/x-python",
   "name": "python",
   "nbconvert_exporter": "python",
   "pygments_lexer": "ipython3",
   "version": "3.8.3"
  }
 },
 "nbformat": 4,
 "nbformat_minor": 4
}
